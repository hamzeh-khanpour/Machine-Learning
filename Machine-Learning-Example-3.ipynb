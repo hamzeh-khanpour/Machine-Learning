{
  "nbformat": 4,
  "nbformat_minor": 0,
  "metadata": {
    "colab": {
      "provenance": [],
      "authorship_tag": "ABX9TyNK4mFnaL1da5vOtL9c2ean",
      "include_colab_link": true
    },
    "kernelspec": {
      "name": "python3",
      "display_name": "Python 3"
    },
    "language_info": {
      "name": "python"
    }
  },
  "cells": [
    {
      "cell_type": "markdown",
      "metadata": {
        "id": "view-in-github",
        "colab_type": "text"
      },
      "source": [
        "<a href=\"https://colab.research.google.com/github/hamzeh-khanpour/Machine-Learning/blob/main/Machine-Learning-Example-3.ipynb\" target=\"_parent\"><img src=\"https://colab.research.google.com/assets/colab-badge.svg\" alt=\"Open In Colab\"/></a>"
      ]
    },
    {
      "cell_type": "code",
      "execution_count": 1,
      "metadata": {
        "colab": {
          "base_uri": "https://localhost:8080/"
        },
        "id": "0r9sVEIBKYkV",
        "outputId": "be3d2202-9569-4d72-fc11-721b6d21fc7b"
      },
      "outputs": [
        {
          "output_type": "stream",
          "name": "stdout",
          "text": [
            "PSO optimization !!\n",
            "-0.39760987322994334 -15.792572893749984\n"
          ]
        }
      ],
      "source": [
        "import numpy as np\n",
        "print (\"PSO optimization !!\")\n",
        "\n",
        "#np.seterr('raise')\n",
        "\n",
        "\n",
        "def func(x):\n",
        "\treturn  30.0 * x**4 - 60.0 * x**3 + 36.0 * x - 6.0\n",
        "\n",
        "\n",
        "######################## INITIALIZING ################################\n",
        "MaxIter  = 2000                          # number of iterations\n",
        "N        = 10                           # number of particles\n",
        "\n",
        "# defining (initial) inertial weight: w\n",
        "w        = 0.9                          # normally it is decreased monotonically from 0.9 to 0.4(or 0.2)\n",
        "cp       = 1.0                          # cognitive (personal or individual) component \n",
        "cg       = 1.0                          # social (global) component\n",
        "lratio   = 1.0                          # learning ratio\n",
        "\n",
        "gbest    = 2.0 * np.random.rand() - 1.0 # swarm (global) best\n",
        "swarm    = np.random.rand(N)            # initialize population of N particles\n",
        "swarm    = 2.0 * swarm - 1.0            # changing range of rnd numbers to [-1,+1]\n",
        "velocity = np.random.rand(N)\n",
        "\n",
        "\n",
        "#particle best\n",
        "# creatin an array full of same BIG number \n",
        "pbest    = np.random.rand(N)#np.zeros(N)\n",
        "pbest    = 2.0 * pbest + 1.0\n",
        "# creatin an array full of same BIG number\n",
        "\n",
        "\n",
        "######################## INITIALIZING ################################\n",
        "\n",
        "######################## MAIN LOOP ###################################\n",
        "\n",
        "j =0\n",
        "while j < MaxIter :    # main loop \n",
        "\n",
        "\tfor i in range(N): # each particle (swarm)\n",
        "\t\trp = np.random.rand()\n",
        "\t\trg = np.random.rand()\n",
        "\t\tvelocity[i] = w * velocity[i] + cp * rp * (pbest[i] - swarm[i]) + cg * rg * (gbest - swarm[i])\n",
        "\t\tswarm[i]    = swarm[i] + lratio * velocity[i]\n",
        "\n",
        "\t\tif func(swarm[i]) < func(pbest[i]):\n",
        "\t\t\tpbest[i] = swarm[i]\n",
        "\n",
        "\t\tif func(swarm[i]) < func(gbest):\n",
        "\t\t\tgbest = swarm[i]\n",
        "#\t\tprint (gbest, func(gbest))\n",
        "\n",
        "\tif w > 0.41:\n",
        "\t\tw += -0.001\n",
        "\tj += 1\n",
        "######################## MAIN LOOP ###################################\n",
        "\n",
        "print (gbest, func(gbest))\n",
        "\n",
        "#(-0.39760987435785139, -15.792572893749984)\n",
        "\n",
        "\n"
      ]
    }
  ]
}